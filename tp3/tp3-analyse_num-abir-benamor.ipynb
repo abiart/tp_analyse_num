{
 "cells": [
  {
   "cell_type": "markdown",
   "metadata": {},
   "source": [
    "<img src=\"image1.PNG\">\n",
    "    "
   ]
  },
  {
   "cell_type": "markdown",
   "metadata": {},
   "source": [
    "### <center style=\"color:#ffc6b3\" > Réalier par : </center>\n",
    "# <center style=\"color:#FF00FF\" > ABIR BENAMOR  </center>"
   ]
  },
  {
   "cell_type": "markdown",
   "metadata": {},
   "source": [
    "***************************************"
   ]
  },
  {
   "cell_type": "markdown",
   "metadata": {},
   "source": [
    "## <span style=\"color:#F5B041 \">Problematique : "
   ]
  },
  {
   "cell_type": "markdown",
   "metadata": {},
   "source": [
    "###  On cherche à estimer la valeur numérique de l'intégrale $\\int_a^b \\mathrm{f}{(x)}\\,\\mathrm{d}x$\n",
    "\n",
    "  1. avec :\n",
    "      1. a et b deux réels (a < b).\n",
    "      2. f fonction mal connue mais ne disposant pas de singularité sur [a, b]."
   ]
  },
  {
   "cell_type": "markdown",
   "metadata": {},
   "source": [
    "## <span style=\"color:#F5B041 \">Solution Méthode classique : primitive\n"
   ]
  },
  {
   "cell_type": "markdown",
   "metadata": {},
   "source": [
    "Lorsqu’on connait une primitive de f (noté ici F) sur [a, b], on peut\n",
    "calculer directement I.\n",
    "$\\int_a^b \\mathrm{f}{(x)}\\,\\mathrm{d}x$ = F(b) − F(a)"
   ]
  },
  {
   "cell_type": "markdown",
   "metadata": {},
   "source": [
    "## <span style=\"color:#F5B041 \">Problème : "
   ]
  },
  {
   "cell_type": "markdown",
   "metadata": {},
   "source": [
    "### <p style=\"color:#1FA055\" > La plupart des fonctions f ne disposent pas d’expressions analytique pour leurs primitives même dans le cas de fonctions s’écrivant très simplement.   😌 </p>\n"
   ]
  },
  {
   "cell_type": "markdown",
   "metadata": {},
   "source": [
    "## méthode du rectangle :"
   ]
  },
  {
   "cell_type": "markdown",
   "metadata": {},
   "source": [
    "#### Cette intégrale numérique nécessite une unique évaluation de la fonction f (en x0 = a) et représente donc ce qu’on peut faire de plus rapide "
   ]
  },
  {
   "cell_type": "markdown",
   "metadata": {},
   "source": [
    "<img src=\"m-rectangle.PNG\">"
   ]
  },
  {
   "cell_type": "markdown",
   "metadata": {},
   "source": [
    "## Méthode du point milieu :"
   ]
  },
  {
   "cell_type": "markdown",
   "metadata": {},
   "source": [
    "####  Cette méthode nécessite une unique évaluation de la fonction f (en x0 = (a + b)/2) et correspond donc aussi à ce qu’on peut faire de plus rapide"
   ]
  },
  {
   "cell_type": "markdown",
   "metadata": {},
   "source": [
    "<img src = m_ptmilieu.png> "
   ]
  },
  {
   "cell_type": "markdown",
   "metadata": {},
   "source": [
    "## Methode trapèze : "
   ]
  },
  {
   "cell_type": "markdown",
   "metadata": {},
   "source": [
    "#### Cette méthode nécessite deux évaluations de la fonction f (en a et en b). Elle est donc en gros deux fois plus lente que les méthodes précédentes"
   ]
  },
  {
   "cell_type": "markdown",
   "metadata": {},
   "source": [
    "<img src =\"m-trapeze.PNG\">"
   ]
  },
  {
   "cell_type": "markdown",
   "metadata": {},
   "source": [
    "## Methode de Simpson :\n"
   ]
  },
  {
   "cell_type": "markdown",
   "metadata": {},
   "source": [
    "#### Cette méthode nécessite trois évaluations de la fonction f (en x0 = a, x1 = (a + b)/2 et x2 = b). Elle est donc en gros 3 fois plus lente que les méthodes à 1 point."
   ]
  },
  {
   "cell_type": "markdown",
   "metadata": {},
   "source": [
    "<img scr=\"m-sipmson.PNG\">"
   ]
  },
  {
   "cell_type": "markdown",
   "metadata": {},
   "source": [
    "<img src =\"m-sipmson.PNG\">"
   ]
  },
  {
   "cell_type": "markdown",
   "metadata": {},
   "source": [
    "# <span style=\"color:#F5B041 \">Partie Pratique :"
   ]
  },
  {
   "cell_type": "code",
   "execution_count": 1,
   "metadata": {},
   "outputs": [],
   "source": [
    "import numpy as np\n",
    "import matplotlib.pyplot as plt\n",
    "from math import *\n",
    "import ipywidgets as widgets"
   ]
  },
  {
   "cell_type": "code",
   "execution_count": 2,
   "metadata": {},
   "outputs": [],
   "source": [
    "f=lambda x:1/(1+x**2)"
   ]
  },
  {
   "cell_type": "code",
   "execution_count": 3,
   "metadata": {},
   "outputs": [],
   "source": [
    "f=lambda x:sin(x)"
   ]
  },
  {
   "cell_type": "code",
   "execution_count": 4,
   "metadata": {},
   "outputs": [],
   "source": [
    "f=lambda x:cos(x)"
   ]
  },
  {
   "cell_type": "code",
   "execution_count": 5,
   "metadata": {},
   "outputs": [],
   "source": [
    "f=lambda x:x**2-x+5"
   ]
  },
  {
   "cell_type": "markdown",
   "metadata": {},
   "source": [
    "# <font  style=\"color:#1FA055\"> Méthode des réctangles : </font>\n",
    "\n"
   ]
  },
  {
   "cell_type": "code",
   "execution_count": 6,
   "metadata": {},
   "outputs": [],
   "source": [
    "class RectangleG ( object ) :\n",
    "    def __init__ (self , a , b , n , f ) :\n",
    "        self.a = a\n",
    "        self.b = b\n",
    "        self.x = np.linspace( a , b , n+1 )\n",
    "        self.f = f\n",
    "        self.n = n\n",
    "    def integrate ( self , f ) :\n",
    "        x= self.x\n",
    "        y= f(x)\n",
    "        h = float( x[1] - x[0] )\n",
    "        s = sum( y[ 0 : -1 ] )\n",
    "        return h * s\n",
    "    def Graph ( self , f , resolution =1001 ) :\n",
    "        xl = self.x\n",
    "        yl = f(xl)\n",
    "        xlist_fine =np.linspace( self.a , self.b , resolution )\n",
    "        for i in range ( self.n ) :\n",
    "            x_rect = [xl[ i ] , xl[ i ] , xl[ i + 1 ] , xl[i+1] , xl[ i ] ] # abscisses des sommets\n",
    "            y_rect = [0 , yl[ i ] , yl[ i ] , 0 , 0 ] # ordonnees des sommets\n",
    "            plt.plot ( x_rect , y_rect , 'r' )\n",
    "        yflist_fine = f ( xlist_fine )\n",
    "        plt.plot ( xlist_fine , yflist_fine )\n",
    "        plt.plot(xl, yl,\"bo\")\n",
    "        plt.xlabel ( 'x' )\n",
    "        plt.ylabel ( ' f ( x ) ' )\n",
    "        plt.title ( ' Methode des rectangles gauches' )\n",
    "        plt.text( 0.5*( self.a+ self.b ) , f(self.b ) , 'I_{} ={:0.4f}'.format(self.n,self.integrate( f ) ) , fontsize =15 )\n",
    "\n",
    "    "
   ]
  },
  {
   "cell_type": "code",
   "execution_count": 7,
   "metadata": {},
   "outputs": [],
   "source": [
    "def simul(n,f):\n",
    "    Re=RectangleG(-1,1,n,f)\n",
    "    return Re.Graph(f)   "
   ]
  },
  {
   "cell_type": "code",
   "execution_count": 8,
   "metadata": {},
   "outputs": [],
   "source": [
    "Re=RectangleG(-1,1,5,f)"
   ]
  },
  {
   "cell_type": "code",
   "execution_count": 9,
   "metadata": {},
   "outputs": [
    {
     "data": {
      "application/vnd.jupyter.widget-view+json": {
       "model_id": "f69b06cdfc4544b4b4eacd0de4833e6c",
       "version_major": 2,
       "version_minor": 0
      },
      "text/plain": [
       "interactive(children=(IntSlider(value=10, description='n', min=1, step=5), Dropdown(description='f', options={…"
      ]
     },
     "metadata": {},
     "output_type": "display_data"
    },
    {
     "data": {
      "text/plain": [
       "<function __main__.simul(n, f)>"
      ]
     },
     "execution_count": 9,
     "metadata": {},
     "output_type": "execute_result"
    }
   ],
   "source": [
    "from ipywidgets import interact, interactive, fixed, interact_manual\n",
    "import ipywidgets as widgets\n",
    "interact (simul, n=widgets.IntSlider(\n",
    "min=1, max=100, step=5,value=10), f={'1/(1+x**2)':lambda x:1/(1+x**2),'sin(x)':lambda x:np.sin(x),'cos(x)':lambda x:np.cos(x),'x**2-x+5': lambda x:x**2-x+5})   "
   ]
  },
  {
   "cell_type": "markdown",
   "metadata": {},
   "source": [
    "# <font style=\"color:#1FA055\"> Méthode du point milieu : </font>\n",
    "\n"
   ]
  },
  {
   "cell_type": "code",
   "execution_count": 10,
   "metadata": {},
   "outputs": [],
   "source": [
    "class RectangleM ( object ) :\n",
    "    def __init__ (self , a , b , n , f ) :\n",
    "        self.a = a\n",
    "        self.b = b\n",
    "        self.x = np.linspace( a , b , n+1 )\n",
    "        self.f = f\n",
    "        self.n = n\n",
    "    def integrate ( self , f ) :\n",
    "        x= self.x\n",
    "        h = float(x[1] - x[0])\n",
    "        s=0\n",
    "        for i in range(self.n):\n",
    "            s=s+f((x[i]+x[i+1])*0.5)\n",
    "        return h * s\n",
    "    def Graph (self,f,resolution =1001 ):\n",
    "        xl = self.x\n",
    "        yl = f(xl)\n",
    "        xlist_fine =np.linspace( self.a , self.b , resolution )\n",
    "        for i in range ( self.n ) :\n",
    "            m=(xl[i]+xl[i+1])/2\n",
    "            x_rect = [xl[ i ] , xl[ i ] , xl[ i + 1 ] , xl[i+1] , xl[ i ] ] # abscisses des sommets\n",
    "            y_rect = [0 , f(m) , f(m) , 0 , 0 ] # ordonnees des sommets\n",
    "            plt.plot ( x_rect , y_rect , 'r' )\n",
    "        yflist_fine = f ( xlist_fine )\n",
    "        plt.plot ( xlist_fine , yflist_fine )\n",
    "        plt.plot(m,f(m),\"bo\")\n",
    "        plt.xlabel ( 'x' )\n",
    "        plt.ylabel ( ' f ( x ) ' )\n",
    "        plt.title ( ' Methode de point milieu' )\n",
    "        plt.text( 0.5*( self.a+ self.b ) , f(self.b ) , 'I_{} ={:0.4f}'.format(self.n,self.integrate( f ) ) , fontsize =15 )"
   ]
  },
  {
   "cell_type": "code",
   "execution_count": 11,
   "metadata": {},
   "outputs": [],
   "source": [
    "def simula(n,f):\n",
    "    M=RectangleM(-1,1,n,f)\n",
    "    return M.Graph(f)  \n",
    "    plt.show()"
   ]
  },
  {
   "cell_type": "code",
   "execution_count": 12,
   "metadata": {},
   "outputs": [
    {
     "data": {
      "application/vnd.jupyter.widget-view+json": {
       "model_id": "edb1e2d7a4254a4da81b18226bc73204",
       "version_major": 2,
       "version_minor": 0
      },
      "text/plain": [
       "interactive(children=(IntSlider(value=10, description='n', max=50, min=1, step=3), Dropdown(description='f', o…"
      ]
     },
     "metadata": {},
     "output_type": "display_data"
    },
    {
     "data": {
      "text/plain": [
       "<function __main__.simula(n, f)>"
      ]
     },
     "execution_count": 12,
     "metadata": {},
     "output_type": "execute_result"
    }
   ],
   "source": [
    "from ipywidgets import interact, interactive, fixed, interact_manual\n",
    "import ipywidgets as widgets\n",
    "interact(simula,n=widgets.IntSlider(min=1, max=50, step=3, value=10),f={'1/(1+x**2)':lambda x:1/(1+x**2),'sin(x)':np.vectorize(lambda x:sin(x)),'cos(x)': np.vectorize(lambda x:cos(x)),'x**2-x+5': lambda x:x**2-x+5})  "
   ]
  },
  {
   "cell_type": "markdown",
   "metadata": {},
   "source": [
    "## Visualisation du graphe de la méthode des rectangles et la graphe de la méthode du point milieu "
   ]
  },
  {
   "cell_type": "code",
   "execution_count": 13,
   "metadata": {},
   "outputs": [],
   "source": [
    "def simR(n,f):\n",
    "    Re=RectangleG(-1,1,n,f)\n",
    "    M=RectangleM(-1,1,n,f)\n",
    "    fig= plt.figure(figsize=(12,4))\n",
    "    plt.subplot(121)\n",
    "    Re.Graph(f)  \n",
    "    plt.subplot(122)    \n",
    "    M.Graph(f)\n",
    "    plt.show()"
   ]
  },
  {
   "cell_type": "code",
   "execution_count": 14,
   "metadata": {},
   "outputs": [
    {
     "data": {
      "application/vnd.jupyter.widget-view+json": {
       "model_id": "7b07cf3cd19140eb9179388cb0a94921",
       "version_major": 2,
       "version_minor": 0
      },
      "text/plain": [
       "interactive(children=(IntSlider(value=10, description='n', max=50, min=1, step=3), Dropdown(description='f', o…"
      ]
     },
     "metadata": {},
     "output_type": "display_data"
    },
    {
     "data": {
      "text/plain": [
       "<function __main__.simR(n, f)>"
      ]
     },
     "execution_count": 14,
     "metadata": {},
     "output_type": "execute_result"
    }
   ],
   "source": [
    "interact(simR,n=widgets.IntSlider(min=1, max=50, step=3, value=10),f={'1/(1+x**2)':lambda x:1/(1+x**2),'sin(x)':np.vectorize(lambda x:sin(x)),'cos(x)': np.vectorize(lambda x:cos(x)),'x**2-x+5': lambda x:x**2-x+5})"
   ]
  },
  {
   "cell_type": "markdown",
   "metadata": {},
   "source": [
    "# <font  style=\"color:#1FA055\"> Méthode des trapèzes : </font>\n"
   ]
  },
  {
   "cell_type": "code",
   "execution_count": 15,
   "metadata": {},
   "outputs": [],
   "source": [
    "class Trapezoidal( object ) :\n",
    "    def __init__ (self , a , b , n , f ) :\n",
    "        self.a = a\n",
    "        self.b = b\n",
    "        self.x = np.linspace( a , b , n+1 )\n",
    "        self.f = f\n",
    "        self.n = n\n",
    "    def integrate ( self , f ) :\n",
    "        x= self.x\n",
    "        y= f( x )\n",
    "        h = float( x[1] - x[0] )\n",
    "        s = y[0] + y[-1] + 2.0*sum(y[1:-1])\n",
    "        return h * s /2.0\n",
    "    def Graph ( self , f , resolution =1001 ) :\n",
    "        xl = self.x\n",
    "        yl = f(xl)\n",
    "        xlist_fine =np.linspace( self.a , self.b , resolution )\n",
    "        for i in range ( self.n ) :\n",
    "            x_rect = [xl[ i ] , xl[ i ] , xl[ i + 1 ] , xl[i+1] , xl[ i ] ] # abscisses des sommets\n",
    "            y_rect = [0 , yl[ i ] , yl[ i+1 ] , 0 , 0 ] # ordonnees des sommets\n",
    "            plt.plot ( x_rect , y_rect , 'g' )\n",
    "        yflist_fine = f ( xlist_fine )\n",
    "        plt.plot ( xlist_fine , yflist_fine )\n",
    "        plt.plot(xl, yl,\"bo\")\n",
    "        plt.xlabel ( 'x' )\n",
    "        plt.ylabel ( ' f ( x ) ' )\n",
    "        plt.title ( ' Methode des Trapèzes' )\n",
    "        plt.text( 0.5*( self.a+ self.b ) , f(self.b ) , 'I_{} ={:0.4f}'.format(self.n,self.integrate( f ) ) , fontsize =15 )\n",
    "\n",
    "    "
   ]
  },
  {
   "cell_type": "code",
   "execution_count": 16,
   "metadata": {},
   "outputs": [],
   "source": [
    "def simulaT(n,f):\n",
    "    T=Trapezoidal(-1,1,n,f)\n",
    "    return T.Graph(f)   "
   ]
  },
  {
   "cell_type": "code",
   "execution_count": 17,
   "metadata": {},
   "outputs": [],
   "source": [
    "T=Trapezoidal(-1,1,5,f)"
   ]
  },
  {
   "cell_type": "code",
   "execution_count": 18,
   "metadata": {},
   "outputs": [
    {
     "data": {
      "application/vnd.jupyter.widget-view+json": {
       "model_id": "f698731cb5e349099ace715793e36b59",
       "version_major": 2,
       "version_minor": 0
      },
      "text/plain": [
       "interactive(children=(IntSlider(value=10, description='n', max=50, min=1, step=5), Dropdown(description='f', o…"
      ]
     },
     "metadata": {},
     "output_type": "display_data"
    },
    {
     "data": {
      "text/plain": [
       "<function __main__.simulaT(n, f)>"
      ]
     },
     "execution_count": 18,
     "metadata": {},
     "output_type": "execute_result"
    }
   ],
   "source": [
    "from ipywidgets import interact, interactive, fixed, interact_manual\n",
    "interact (simulaT, n=widgets.IntSlider(\n",
    "min=1, max=50, step=5,value=10), f={'1/(1+x**2)':lambda x:1/(1+x**2),'sin(x)': np.vectorize(lambda x:sin(x)),'cos(x)': np.vectorize(lambda x:cos(x)),'x**2-x+5': lambda x:x**2-x+5})   "
   ]
  },
  {
   "cell_type": "markdown",
   "metadata": {},
   "source": [
    "## Visualisation du graphe de la méthode des rectangles et la graphe de la méthode des Trapèzes"
   ]
  },
  {
   "cell_type": "code",
   "execution_count": 19,
   "metadata": {},
   "outputs": [],
   "source": [
    "def sim(n,f):\n",
    "    Re=RectangleG(-1,1,n,f)\n",
    "    T=Trapezoidal(-1,1,n,f)\n",
    "    fig= plt.figure(figsize=(12,4))\n",
    "    plt.subplot(121)\n",
    "    Re.Graph(f)  \n",
    "    plt.subplot(122)    \n",
    "    T.Graph(f)\n",
    "    plt.show()"
   ]
  },
  {
   "cell_type": "code",
   "execution_count": 20,
   "metadata": {},
   "outputs": [
    {
     "data": {
      "application/vnd.jupyter.widget-view+json": {
       "model_id": "cff053de0e0746e4b1fbf0133faf8932",
       "version_major": 2,
       "version_minor": 0
      },
      "text/plain": [
       "interactive(children=(IntSlider(value=10, description='n', max=50, min=1, step=3), Dropdown(description='f', o…"
      ]
     },
     "metadata": {},
     "output_type": "display_data"
    },
    {
     "data": {
      "text/plain": [
       "<function __main__.sim(n, f)>"
      ]
     },
     "execution_count": 20,
     "metadata": {},
     "output_type": "execute_result"
    }
   ],
   "source": [
    "interact(sim,n=widgets.IntSlider(min=1, max=50, step=3, value=10),f={'1/(1+x**2)':lambda x:1/(1+x**2),'sin(x)':np.vectorize(lambda x:sin(x)),'cos(x)': np.vectorize(lambda x:cos(x)),'x**2-x+5': lambda x:x**2-x+5})"
   ]
  },
  {
   "cell_type": "markdown",
   "metadata": {},
   "source": [
    "## Visualisation du graphe de la méthode des rectangles et la graphe de la méthode du point milieu el la graphe de méthode des  Trapèzes"
   ]
  },
  {
   "cell_type": "code",
   "execution_count": 21,
   "metadata": {},
   "outputs": [],
   "source": [
    "def sim3(n,f):\n",
    "    Re=RectangleG(-1,1,n,f)\n",
    "    M=RectangleM(-1,1,n,f)\n",
    "    T=Trapezoidal(-1,1,n,f)\n",
    "    fig= plt.figure(figsize=(17,4))\n",
    "    plt.subplot(131)\n",
    "    Re.Graph(f)  \n",
    "    plt.subplot(132)\n",
    "    M.Graph(f)\n",
    "    plt.subplot(133)    \n",
    "    T.Graph(f)\n",
    "    plt.show()"
   ]
  },
  {
   "cell_type": "code",
   "execution_count": 22,
   "metadata": {},
   "outputs": [
    {
     "data": {
      "application/vnd.jupyter.widget-view+json": {
       "model_id": "d303df3da3b84609adfb177ebfe698d3",
       "version_major": 2,
       "version_minor": 0
      },
      "text/plain": [
       "interactive(children=(IntSlider(value=10, description='n', max=50, min=1, step=3), Dropdown(description='f', o…"
      ]
     },
     "metadata": {},
     "output_type": "display_data"
    },
    {
     "data": {
      "text/plain": [
       "<function __main__.sim3(n, f)>"
      ]
     },
     "execution_count": 22,
     "metadata": {},
     "output_type": "execute_result"
    }
   ],
   "source": [
    "interact(sim3,n=widgets.IntSlider(min=1, max=50, step=3, value=10),f={'1/(1+x**2)':lambda x:1/(1+x**2),'sin(x)':np.vectorize(lambda x:sin(x)),'cos(x)': np.vectorize(lambda x:cos(x)),'x**2-x+5': lambda x:x**2-x+5})"
   ]
  },
  {
   "cell_type": "markdown",
   "metadata": {},
   "source": [
    "# <font style=\"color:#1FA055\"> Méthode de Simpson : </font>\n"
   ]
  },
  {
   "cell_type": "code",
   "execution_count": 23,
   "metadata": {},
   "outputs": [],
   "source": [
    "class Simpson( object ) :\n",
    "    def __init__ (self , a , b , n , f ) :\n",
    "        self.a = a\n",
    "        self.b = b\n",
    "        self.x = np.linspace( a , b , n+1 )\n",
    "        self.f = f\n",
    "        self.n = n\n",
    "    def integrate ( self , f ) :\n",
    "        x= self.x\n",
    "        y= f(x)\n",
    "        h = float(x[2] - x[1])\n",
    "        n = len(x) - 1\n",
    "        if n % 2 == 1 :\n",
    "            raise ValueError(\"N must be an even integer.\")\n",
    "        s = y[0] + y[n] + 4.0 * sum(y[1:-1:2]) + 2.0 * sum(y[2:-2:2])\n",
    "        return h * s / 3.0\n",
    "    def Graph(self , f , resolution =1001):\n",
    "        xl = self.x\n",
    "        yl = f(xl)\n",
    "        xlist_fine =np.linspace( self.a , self.b , resolution )\n",
    "        for i in range ( self.n ) :\n",
    "            xx = np.linspace(xl[ i ],xl[i + 1],resolution)\n",
    "            m = (xl[i]+ xl[i + 1])/ 2\n",
    "            a = xl[i]\n",
    "            b = xl[i +1]\n",
    "            l0  =(xx-m)/(a-m)*(xx-b)/(a-b)\n",
    "            l1 =(xx-a)/(m-a)*(xx-b)/(m-b)\n",
    "            l2 =(xx-a)/(b-a)*(xx-m)/(b-m)\n",
    "            P = f(a)*l0 + f(m)*l1 + f(b)*l2\n",
    "            plt.plot( xx , P , \"r\")\n",
    "        yflist_fine = f(xlist_fine )\n",
    "        plt.plot(xlist_fine , yflist_fine, 'g')\n",
    "        plt.plot( xl , yl , \"ro \")\n",
    "        plt.xlabel('x')\n",
    "        plt.ylabel( 'f( x )')\n",
    "        plt.title( 'Methode de Simpson ')\n",
    "        plt.text( 0.5*( self.a+ self.b ) , f(self.b ) , 'I_{} ={:0.4f}'.format(self.n,self.integrate( f ) ) , fontsize =15 )\n",
    "\n",
    "    "
   ]
  },
  {
   "cell_type": "code",
   "execution_count": 24,
   "metadata": {},
   "outputs": [],
   "source": [
    "def simulS(n,f):\n",
    "    S=Simpson(-1,1,n,f)\n",
    "    return S.Graph(f)   "
   ]
  },
  {
   "cell_type": "code",
   "execution_count": 25,
   "metadata": {},
   "outputs": [],
   "source": [
    " S=Simpson(-1,1,5,f)"
   ]
  },
  {
   "cell_type": "code",
   "execution_count": 26,
   "metadata": {},
   "outputs": [
    {
     "data": {
      "application/vnd.jupyter.widget-view+json": {
       "model_id": "6a0bd872009e436cb4f45f22e943ad3f",
       "version_major": 2,
       "version_minor": 0
      },
      "text/plain": [
       "interactive(children=(IntSlider(value=10, description='n', max=50, min=1, step=5), Dropdown(description='f', o…"
      ]
     },
     "metadata": {},
     "output_type": "display_data"
    },
    {
     "data": {
      "text/plain": [
       "<function __main__.simulS(n, f)>"
      ]
     },
     "execution_count": 26,
     "metadata": {},
     "output_type": "execute_result"
    }
   ],
   "source": [
    "from ipywidgets import interact, interactive, fixed, interact_manual\n",
    "import ipywidgets as widgets\n",
    "interact (simulS, n=widgets.IntSlider(\n",
    "min=1, max=50, step=5,value=10), f={'1/(1+x**2)':lambda x:1/(1+x**2),'sin(x)': np.vectorize(lambda x:sin(x)),'cos(x)': np.vectorize(lambda x:cos(x)),'x**2-x+5': lambda x:x**2-x+5})   "
   ]
  },
  {
   "cell_type": "markdown",
   "metadata": {},
   "source": [
    "## Visualisation du graphe de la méthode des rectangles et la graphe de la méthode du point milieu el la graphe de méthode des  Trapèzes el la méthode de Simspon"
   ]
  },
  {
   "cell_type": "code",
   "execution_count": 27,
   "metadata": {},
   "outputs": [],
   "source": [
    "def sim4(n,f):\n",
    "    Re=RectangleG(-1,1,n,f)\n",
    "    M=RectangleM(-1,1,n,f)\n",
    "    T=Trapezoidal(-1,1,n,f)\n",
    "    S=Simpson(-1,1,n,f)\n",
    "    fig= plt.figure(figsize=(15,8))\n",
    "    plt.subplot(221)\n",
    "    Re.Graph(f)  \n",
    "    plt.subplot(222)\n",
    "    M.Graph(f)\n",
    "    plt.subplot(223)    \n",
    "    T.Graph(f)\n",
    "    plt.subplot(224)    \n",
    "    S.Graph(f)\n",
    "    plt.show()"
   ]
  },
  {
   "cell_type": "code",
   "execution_count": 28,
   "metadata": {},
   "outputs": [
    {
     "data": {
      "application/vnd.jupyter.widget-view+json": {
       "model_id": "a7f56c310d934f0282fdc7eebe5ee076",
       "version_major": 2,
       "version_minor": 0
      },
      "text/plain": [
       "interactive(children=(IntSlider(value=10, description='n', max=50, min=1, step=3), Dropdown(description='f', o…"
      ]
     },
     "metadata": {},
     "output_type": "display_data"
    },
    {
     "data": {
      "text/plain": [
       "<function __main__.sim4(n, f)>"
      ]
     },
     "execution_count": 28,
     "metadata": {},
     "output_type": "execute_result"
    }
   ],
   "source": [
    "interact(sim4,n=widgets.IntSlider(min=1, max=50, step=3, value=10),f={'1/(1+x**2)':lambda x:1/(1+x**2),'sin(x)':np.vectorize(lambda x:sin(x)),'cos(x)': np.vectorize(lambda x:cos(x)),'x**2-x+5': lambda x:x**2-x+5})"
   ]
  },
  {
   "cell_type": "code",
   "execution_count": 29,
   "metadata": {},
   "outputs": [],
   "source": [
    "%matplotlib widget\n",
    "\n",
    "Sel=widgets.Dropdown(\n",
    "options = [('Methode des rectangles gauches',1),('Methode de point milieu',2) , ('Methode des Trapèzes',3) ,('Methode de Simpson',4)],\n",
    "value = 1,    \n",
    "description = 'Méthode:'\n",
    ")\n",
    "text_func=widgets.Text(value='1/(1+x**2)',description=' Fonction' ,continous_update=False)\n",
    "text_xlabel=widgets.Text(value='',description='xlabel' ,continous_update=False)\n",
    "text_ylabel=widgets.Text(value='',description='ylabel' ,continous_update=False)\n",
    "text_a=widgets.Text(value='-1',description='a' ,continous_update=False)\n",
    "text_b=widgets.Text(value='1',description='b' ,continous_update=False)\n",
    "text_n=widgets.Text(value='10',description='n' ,continous_update=False)\n",
    "text_int=widgets.Text(value='',description='I_n' ,continous_update=True)\n",
    "button=widgets.Button(description=\"Calculer\")\n",
    "text_c=widgets.Text(value='3',description='n' ,continous_update=False)\n",
    "\n",
    "\n",
    "def simm(b):\n",
    "    dic={1:RectangleG,2:RectangleM,3:Trapezoidal,4:Simpson}\n",
    "    s=Sel.value\n",
    "    plt.cla()\n",
    "    func=lambda x:eval(text_func.value)\n",
    "    ff=np.vectorize(func)\n",
    "    R=dic[s](float(text_a.value),float(text_b.value),int(text_n.value),ff)\n",
    "    R.Graph(ff)\n",
    "    text_int.value=str(R.integrate(ff))\n",
    "    text_int.description='I_'+text_n.value  \n",
    "                       \n",
    "    \n",
    "def update_a(change):\n",
    "    change.new\n",
    "def update_b(change):\n",
    "    change.new\n",
    "def update_n(change):\n",
    "    change.new\n",
    "def update_f(change):\n",
    "    change.new\n",
    "\n",
    "button.on_click(simm)\n",
    "\n",
    "text_func.observe(update_f, 'value')\n",
    "text_a.observe(update_a, 'value')\n",
    "text_b.observe(update_b, 'value')"
   ]
  },
  {
   "cell_type": "code",
   "execution_count": 30,
   "metadata": {},
   "outputs": [],
   "source": [
    "output = widgets.Output()\n",
    "\"\"\"\n",
    "if plt.gcf().number>=2:\n",
    "        for i in range(2,plt.gcf().number):\n",
    "            plt.close(i)\n",
    " \n",
    " \n",
    " \"\"\"\n",
    "\n",
    "with output:\n",
    "    fig, ax = plt.subplots(constrained_layout=True, figsize=(4, 3.5))\n",
    "    fig.canvas.toolbar_position =\"bottom\""
   ]
  },
  {
   "cell_type": "code",
   "execution_count": 31,
   "metadata": {},
   "outputs": [
    {
     "data": {
      "application/vnd.jupyter.widget-view+json": {
       "model_id": "d2a06a2580f94de48bb636d2d0bac172",
       "version_major": 2,
       "version_minor": 0
      },
      "text/plain": [
       "GridBox(children=(VBox(children=(Dropdown(description='Méthode:', options=(('Methode des rectangles gauches', …"
      ]
     },
     "metadata": {},
     "output_type": "display_data"
    }
   ],
   "source": [
    "from ipywidgets import Button, GridBox, Layout, ButtonStyle\n",
    "def make_boxes():\n",
    "    vbox1=widgets.VBox([Sel,text_func,text_a,text_b,text_n,button,text_int])\n",
    "    vbox2=widgets.VBox([output])\n",
    "    return vbox1,vbox2\n",
    "\n",
    "box_layout = widgets.Layout(\n",
    "        border='solid 1px red',\n",
    "        margin='0px 10px 10px 0px',\n",
    "        padding='5px 5px 5px 5px')\n",
    " \n",
    "vbox1, vbox2 = make_boxes()\n",
    " \n",
    "vbox1.layout = box_layout\n",
    "vbox2.layout = box_layout\n",
    " \n",
    "#widgets.HBox([vbox1, vbox2])\n",
    "\n",
    "GridBox(children=[vbox1,vbox2],\n",
    "        layout=Layout(\n",
    "            width='100%',\n",
    "            grid_template_rows='auto auto auto',\n",
    "            grid_template_columns='50% 50%',\n",
    "            grid_template_areas='''\n",
    "            \"vbox1 vbox1 . vbox2 \"\n",
    "            ''')\n",
    "       )"
   ]
  },
  {
   "cell_type": "code",
   "execution_count": null,
   "metadata": {},
   "outputs": [],
   "source": []
  },
  {
   "cell_type": "code",
   "execution_count": null,
   "metadata": {},
   "outputs": [],
   "source": []
  },
  {
   "cell_type": "code",
   "execution_count": null,
   "metadata": {},
   "outputs": [],
   "source": []
  }
 ],
 "metadata": {
  "kernelspec": {
   "display_name": "Python 3",
   "language": "python",
   "name": "python3"
  },
  "language_info": {
   "codemirror_mode": {
    "name": "ipython",
    "version": 3
   },
   "file_extension": ".py",
   "mimetype": "text/x-python",
   "name": "python",
   "nbconvert_exporter": "python",
   "pygments_lexer": "ipython3",
   "version": "3.8.3"
  }
 },
 "nbformat": 4,
 "nbformat_minor": 4
}
